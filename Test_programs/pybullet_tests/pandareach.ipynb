{
  "nbformat": 4,
  "nbformat_minor": 0,
  "metadata": {
    "colab": {
      "name": "pandareach.ipynb",
      "provenance": [],
      "collapsed_sections": []
    },
    "kernelspec": {
      "name": "python3",
      "display_name": "Python 3"
    }
  },
  "cells": [
    {
      "cell_type": "code",
      "metadata": {
        "id": "AkIUY1KFEE1G",
        "colab_type": "code",
        "colab": {}
      },
      "source": [
        "!git clone https://github.com/robotology-playground/pybullet-robot-envs\n",
        "%cd pybullet-robot-envs/pybullet_robot_envs/examples/algos/train/baselines/"
      ],
      "execution_count": 0,
      "outputs": []
    }
  ]
}