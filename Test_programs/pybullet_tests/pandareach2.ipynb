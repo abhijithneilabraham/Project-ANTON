{
  "nbformat": 4,
  "nbformat_minor": 0,
  "metadata": {
    "colab": {
      "name": "pandareach.ipynb",
      "provenance": [],
      "collapsed_sections": []
    },
    "kernelspec": {
      "name": "python3",
      "display_name": "Python 3"
    },
    "accelerator": "GPU"
  },
  "cells": [
    {
      "cell_type": "code",
      "metadata": {
        "id": "AkIUY1KFEE1G",
        "colab_type": "code",
        "colab": {
          "base_uri": "https://localhost:8080/",
          "height": 123
        },
        "outputId": "a25ef5bb-55ca-4a08-e9ab-79b48227e47c"
      },
      "source": [
        "!git clone https://github.com/robotology-playground/pybullet-robot-envs\n",
        "%cd pybullet-robot-envs/"
      ],
      "execution_count": 4,
      "outputs": [
        {
          "output_type": "stream",
          "text": [
            "Cloning into 'pybullet-robot-envs'...\n",
            "remote: Enumerating objects: 1957, done.\u001b[K\n",
            "remote: Total 1957 (delta 0), reused 0 (delta 0), pack-reused 1957\u001b[K\n",
            "Receiving objects: 100% (1957/1957), 61.07 MiB | 10.75 MiB/s, done.\n",
            "Resolving deltas: 100% (904/904), done.\n",
            "/content/pybullet-robot-envs\n"
          ],
          "name": "stdout"
        }
      ]
    },
    {
      "cell_type": "code",
      "metadata": {
        "id": "Ps5vHKc15rV6",
        "colab_type": "code",
        "colab": {}
      },
      "source": [
        "!python setup.py install"
      ],
      "execution_count": 0,
      "outputs": []
    },
    {
      "cell_type": "code",
      "metadata": {
        "id": "trBZDoTK6Ves",
        "colab_type": "code",
        "colab": {
          "base_uri": "https://localhost:8080/",
          "height": 34
        },
        "outputId": "25e06243-77aa-4676-ee6e-4cfc3c233308"
      },
      "source": [
        "%cd pybullet_robot_envs/examples/algos/train/baselines/"
      ],
      "execution_count": 6,
      "outputs": [
        {
          "output_type": "stream",
          "text": [
            "/content/pybullet-robot-envs/pybullet_robot_envs/examples/algos/train/baselines\n"
          ],
          "name": "stdout"
        }
      ]
    },
    {
      "cell_type": "code",
      "metadata": {
        "id": "sXn09TCJ6ZiH",
        "colab_type": "code",
        "colab": {
          "base_uri": "https://localhost:8080/",
          "height": 34
        },
        "outputId": "e6c0ba33-1c57-43ff-fe5d-b32f3ad06a1a"
      },
      "source": [
        "%cd panda_envs/"
      ],
      "execution_count": 7,
      "outputs": [
        {
          "output_type": "stream",
          "text": [
            "/content/pybullet-robot-envs/pybullet_robot_envs/examples/algos/train/baselines/panda_envs\n"
          ],
          "name": "stdout"
        }
      ]
    },
    {
      "cell_type": "code",
      "metadata": {
        "id": "IbuCG-yv6weK",
        "colab_type": "code",
        "colab": {
          "base_uri": "https://localhost:8080/",
          "height": 125
        },
        "outputId": "a4e7eb4c-c0c2-433d-9c0b-1521a9680cea"
      },
      "source": [
        "!pip install pybullet"
      ],
      "execution_count": 8,
      "outputs": [
        {
          "output_type": "stream",
          "text": [
            "Collecting pybullet\n",
            "\u001b[?25l  Downloading https://files.pythonhosted.org/packages/f8/c3/3b9bbc274ce7b056c3b01c1412779434dfe1cba200d44ffb1cf4fa5ba08c/pybullet-2.7.3-cp36-cp36m-manylinux1_x86_64.whl (95.0MB)\n",
            "\u001b[K     |████████████████████████████████| 95.0MB 32kB/s \n",
            "\u001b[?25hInstalling collected packages: pybullet\n",
            "Successfully installed pybullet-2.7.3\n"
          ],
          "name": "stdout"
        }
      ]
    },
    {
      "cell_type": "code",
      "metadata": {
        "id": "FsvSGTfl7fsQ",
        "colab_type": "code",
        "colab": {}
      },
      "source": [
        "!pip install stable_baselines"
      ],
      "execution_count": 0,
      "outputs": []
    },
    {
      "cell_type": "code",
      "metadata": {
        "id": "BmYQ5lpO7o-C",
        "colab_type": "code",
        "colab": {}
      },
      "source": [
        "!pip install tensorflow==1.15"
      ],
      "execution_count": 0,
      "outputs": []
    },
    {
      "cell_type": "code",
      "metadata": {
        "id": "73VTjMGv8MuM",
        "colab_type": "code",
        "colab": {}
      },
      "source": [
        "!pip install mpi4py"
      ],
      "execution_count": 0,
      "outputs": []
    },
    {
      "cell_type": "code",
      "metadata": {
        "id": "xthRos-d6ioP",
        "colab_type": "code",
        "colab": {
          "base_uri": "https://localhost:8080/",
          "height": 712
        },
        "outputId": "61e6220c-e0ed-4354-ef0f-cb53f7ebe97a"
      },
      "source": [
        "!python train_ddpg_reaching.py"
      ],
      "execution_count": 15,
      "outputs": [
        {
          "output_type": "stream",
          "text": [
            "/content/pybullet-robot-envs/pybullet_robot_envs\n",
            "pybullet build time: Apr 14 2020 20:56:53\n",
            "current_dir=/usr/local/lib/python3.6/dist-packages/pybullet_robot_envs-0.0.1-py3.6.egg/pybullet_robot_envs/envs/panda_envs\n",
            "current_dir=/usr/local/lib/python3.6/dist-packages/pybullet_robot_envs-0.0.1-py3.6.egg/pybullet_robot_envs/envs/panda_envs\n",
            "current_dir=/content/pybullet-robot-envs/pybullet_robot_envs/envs/panda_envs\n",
            "WARNING:tensorflow:\n",
            "The TensorFlow contrib module will not be included in TensorFlow 2.0.\n",
            "For more information, please see:\n",
            "  * https://github.com/tensorflow/community/blob/master/rfcs/20180907-contrib-sunset.md\n",
            "  * https://github.com/tensorflow/addons\n",
            "  * https://github.com/tensorflow/io (for I/O related ops)\n",
            "If you depend on functionality not listed there, please file an issue.\n",
            "\n",
            "b3Warning[examples/Importers/ImportURDFDemo/UrdfFindMeshFile.h,112]:\n",
            "/usr/local/lib/python3.6/dist-packages/pybullet_robot_envs-0.0.1-py3.6.egg/pybullet_robot_envs/robot_data/franka_description/table.urdf:15: cannot find 'table.obj' in any directory in urdf path\n",
            "b3Error[examples/Importers/ImportURDFDemo/BulletUrdfImporter.cpp,121]:\n",
            "Could not parse visual element for Link:b3Error[examples/Importers/ImportURDFDemo/BulletUrdfImporter.cpp,121]:\n",
            "baseLinkb3Error[examples/Importers/ImportURDFDemo/BulletUrdfImporter.cpp,121]:\n",
            "failed to parse linkTraceback (most recent call last):\n",
            "  File \"train_ddpg_reaching.py\", line 122, in <module>\n",
            "    main(sys.argv[1:])\n",
            "  File \"train_ddpg_reaching.py\", line 91, in main\n",
            "    pandaenv = pandaReachGymEnv(urdfRoot=robot_data.getDataPath(), renders=rend, useIK=0, isDiscrete=discreteAction, numControlledJoints = numControlledJoints, fixedPositionObj = fixed, includeVelObs = True)\n",
            "  File \"/content/pybullet-robot-envs/pybullet_robot_envs/envs/panda_envs/panda_reach_gym_env.py\", line 76, in __init__\n",
            "    self.reset()\n",
            "  File \"/content/pybullet-robot-envs/pybullet_robot_envs/envs/panda_envs/panda_reach_gym_env.py\", line 106, in reset\n",
            "    tableId = p.loadURDF(os.path.join(self._urdfRoot, \"franka_description/table.urdf\"), useFixedBase=True)\n",
            "pybullet.error: Cannot load URDF file.\n",
            "[dc4b89b579d5:00590] *** Process received signal ***\n",
            "[dc4b89b579d5:00590] Signal: Segmentation fault (11)\n",
            "[dc4b89b579d5:00590] Signal code: Address not mapped (1)\n",
            "[dc4b89b579d5:00590] Failing at address: 0x7f89cbc2320d\n",
            "[dc4b89b579d5:00590] [ 0] /lib/x86_64-linux-gnu/libpthread.so.0(+0x12890)[0x7f89ce6c9890]\n",
            "[dc4b89b579d5:00590] [ 1] /lib/x86_64-linux-gnu/libc.so.6(getenv+0xa5)[0x7f89ce308785]\n",
            "[dc4b89b579d5:00590] [ 2] /usr/lib/x86_64-linux-gnu/libtcmalloc.so.4(_ZN13TCMallocGuardD1Ev+0x34)[0x7f89ceb73e44]\n",
            "[dc4b89b579d5:00590] [ 3] /lib/x86_64-linux-gnu/libc.so.6(__cxa_finalize+0xf5)[0x7f89ce309615]\n",
            "[dc4b89b579d5:00590] [ 4] /usr/lib/x86_64-linux-gnu/libtcmalloc.so.4(+0x13cb3)[0x7f89ceb71cb3]\n",
            "[dc4b89b579d5:00590] *** End of error message ***\n"
          ],
          "name": "stdout"
        }
      ]
    }
  ]
}